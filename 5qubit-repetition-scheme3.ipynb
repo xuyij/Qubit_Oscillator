{
 "cells": [
  {
   "cell_type": "code",
   "execution_count": 51,
   "metadata": {},
   "outputs": [],
   "source": [
    "import numpy as np\n",
    "from sympy import *\n",
    "from matplotlib import pyplot as plt"
   ]
  },
  {
   "cell_type": "code",
   "execution_count": 52,
   "metadata": {},
   "outputs": [],
   "source": [
    "def Hadamard(i):\n",
    "    global N_qubit\n",
    "    H=np.identity(2*N_qubit)\n",
    "    H[i,i+N_qubit]=-1\n",
    "    H[i+N_qubit,i]=1\n",
    "    H[i,i]=0.\n",
    "    H[i+N_qubit,i+N_qubit]=0.\n",
    "    \n",
    "    return H\n",
    "    "
   ]
  },
  {
   "cell_type": "code",
   "execution_count": 53,
   "metadata": {},
   "outputs": [],
   "source": [
    "def x_parity(i,j):\n",
    "    global N_qubit\n",
    "    x_par=Hadamard(i)@SUM(i,j)@np.linalg.inv(Hadamard(i))\n",
    "    \n",
    "    return x_par"
   ]
  },
  {
   "cell_type": "code",
   "execution_count": 54,
   "metadata": {},
   "outputs": [],
   "source": [
    "def SUM(i,j):\n",
    "    global N_qubit\n",
    "    Sum_ij=np.identity(2*N_qubit)\n",
    "    Sum_ij[i+N_qubit,j+N_qubit]=-1.0\n",
    "    Sum_ij[j,i]=1.0\n",
    "    \n",
    "    return Sum_ij"
   ]
  },
  {
   "cell_type": "code",
   "execution_count": 55,
   "metadata": {},
   "outputs": [],
   "source": [
    "def inv_SUM(i,j):\n",
    "    return np.linalg.inv(SUM(i,j))"
   ]
  },
  {
   "cell_type": "code",
   "execution_count": 56,
   "metadata": {},
   "outputs": [],
   "source": [
    "def CZ(i,j):\n",
    "    global N_qubit\n",
    "    CZ=Hadamard(j)@SUM(i,j)@np.linalg.inv(Hadamard(j))\n",
    "    \n",
    "    return CZ"
   ]
  },
  {
   "cell_type": "code",
   "execution_count": 57,
   "metadata": {},
   "outputs": [],
   "source": [
    "def inv_CZ(i,j):\n",
    "    return np.linalg.inv(CZ(i,j))"
   ]
  },
  {
   "cell_type": "code",
   "execution_count": 58,
   "metadata": {},
   "outputs": [],
   "source": [
    "def logical_err(q,p):\n",
    "    q_err=np.abs(Rs(2*np.sqrt(np.pi),q))\n",
    "    p_err=np.abs(Rs(2*np.sqrt(np.pi),p))\n",
    "    \n",
    "    if q_err>0.5*np.sqrt(np.pi) or p_err>0.5*np.sqrt(np.pi):\n",
    "        logic=1.0\n",
    "    else:\n",
    "        logic=0.\n",
    "        \n",
    "    return logic"
   ]
  },
  {
   "cell_type": "code",
   "execution_count": 59,
   "metadata": {},
   "outputs": [],
   "source": [
    "def Rs(s,z):\n",
    "    return z-s*np.floor(z/s+1/2)"
   ]
  },
  {
   "cell_type": "markdown",
   "metadata": {},
   "source": [
    "## Initialize error vector"
   ]
  },
  {
   "cell_type": "code",
   "execution_count": 60,
   "metadata": {},
   "outputs": [],
   "source": [
    "q1,q2,q3,q4,q5,p1,p2,p3,p4,p5 = symbols('q1 q2 q3 q4 q5 p1 p2 p3 p4 p5')"
   ]
  },
  {
   "cell_type": "code",
   "execution_count": 61,
   "metadata": {},
   "outputs": [],
   "source": [
    "N_qubit=5"
   ]
  },
  {
   "cell_type": "code",
   "execution_count": 62,
   "metadata": {},
   "outputs": [],
   "source": [
    "B = Matrix([q1, q2, q3, q4, q5, p1, p2, p3, p4, p5])"
   ]
  },
  {
   "cell_type": "markdown",
   "metadata": {},
   "source": [
    "## First layer of encoder"
   ]
  },
  {
   "cell_type": "code",
   "execution_count": 63,
   "metadata": {},
   "outputs": [],
   "source": [
    "#B1=(SUM(0,2)@SUM(0,1))*B\n",
    "A1=SUM(0,1)"
   ]
  },
  {
   "cell_type": "code",
   "execution_count": 64,
   "metadata": {},
   "outputs": [
    {
     "name": "stdout",
     "output_type": "stream",
     "text": [
      "(10, 10)\n"
     ]
    }
   ],
   "source": [
    "print(A1.shape)"
   ]
  },
  {
   "cell_type": "markdown",
   "metadata": {},
   "source": [
    "## Second layer of encoder"
   ]
  },
  {
   "cell_type": "code",
   "execution_count": 65,
   "metadata": {},
   "outputs": [],
   "source": [
    "#B2=Hadamard(0)*B1\n",
    "A2=SUM(0,2)@A1"
   ]
  },
  {
   "cell_type": "code",
   "execution_count": 66,
   "metadata": {},
   "outputs": [],
   "source": [
    "A3=SUM(0,3)@A2\n",
    "A4=SUM(0,4)@A3"
   ]
  },
  {
   "cell_type": "code",
   "execution_count": 67,
   "metadata": {},
   "outputs": [],
   "source": [
    "dec_cir=np.linalg.inv(A4)\n",
    "\n",
    "# decoder is the inverse of encoder A4"
   ]
  },
  {
   "cell_type": "code",
   "execution_count": 68,
   "metadata": {
    "scrolled": true
   },
   "outputs": [
    {
     "name": "stdout",
     "output_type": "stream",
     "text": [
      "[[ 1.  0.  0.  0.  0.  0.  0.  0.  0.  0.]\n",
      " [-1.  1.  0.  0.  0.  0.  0.  0.  0.  0.]\n",
      " [-1.  0.  1.  0.  0.  0.  0.  0.  0.  0.]\n",
      " [-1.  0.  0.  1.  0.  0.  0.  0.  0.  0.]\n",
      " [-1.  0.  0.  0.  1.  0.  0.  0.  0.  0.]\n",
      " [ 0.  0.  0.  0.  0.  1.  1.  1.  1.  1.]\n",
      " [ 0.  0.  0.  0.  0.  0.  1.  0.  0.  0.]\n",
      " [ 0.  0.  0.  0.  0.  0.  0.  1.  0.  0.]\n",
      " [ 0.  0.  0.  0.  0.  0.  0.  0.  1.  0.]\n",
      " [ 0.  0.  0.  0.  0.  0.  0.  0.  0.  1.]]\n"
     ]
    }
   ],
   "source": [
    "print(dec_cir)"
   ]
  },
  {
   "cell_type": "code",
   "execution_count": 69,
   "metadata": {},
   "outputs": [],
   "source": [
    "# C-matrix in Eq.30\n",
    "C=np.transpose(np.linalg.inv(dec_cir))@np.linalg.inv(dec_cir)\n"
   ]
  },
  {
   "cell_type": "code",
   "execution_count": 70,
   "metadata": {},
   "outputs": [],
   "source": [
    "# calculate the estimated zq, zp. Then perform error correction\n",
    "z_q=np.zeros(2*N_qubit)\n",
    "z_p=np.zeros(2*N_qubit)\n",
    "for i in np.arange(2*N_qubit):\n",
    "    z_q+=-1/C[0,0]*C[0,i]*dec_cir[i]\n",
    "    z_p+=-1/C[N_qubit,N_qubit]*C[N_qubit,i]*dec_cir[i]\n",
    "\n",
    "    \n",
    "z_q+=1/C[0,0]*C[0,0]*dec_cir[0]\n",
    "z_p+=1/C[N_qubit,N_qubit]*C[N_qubit,N_qubit]*dec_cir[N_qubit]\n",
    "    \n",
    "q_corrected=dec_cir[0]-z_q\n",
    "p_corrected=dec_cir[N_qubit]-z_p"
   ]
  },
  {
   "cell_type": "code",
   "execution_count": 71,
   "metadata": {},
   "outputs": [
    {
     "name": "stdout",
     "output_type": "stream",
     "text": [
      "0.20000000000000007\n",
      "1.0\n"
     ]
    }
   ],
   "source": [
    "# Calculate variance after EC\n",
    "print(np.sum(q_corrected**2))\n",
    "print(np.sum(p_corrected**2))"
   ]
  },
  {
   "cell_type": "code",
   "execution_count": null,
   "metadata": {
    "scrolled": true
   },
   "outputs": [],
   "source": []
  },
  {
   "cell_type": "code",
   "execution_count": null,
   "metadata": {},
   "outputs": [],
   "source": []
  },
  {
   "cell_type": "code",
   "execution_count": 73,
   "metadata": {},
   "outputs": [
    {
     "name": "stdout",
     "output_type": "stream",
     "text": [
      "[[-1.  1.  0.  0.  0.  0.  0.  0.  0.  0.]\n",
      " [-1.  0.  1.  0.  0.  0.  0.  0.  0.  0.]\n",
      " [-1.  0.  0.  1.  0.  0.  0.  0.  0.  0.]\n",
      " [-1.  0.  0.  0.  1.  0.  0.  0.  0.  0.]\n",
      " [ 0.  0.  0.  0.  0.  0.  1.  0.  0.  0.]\n",
      " [ 0.  0.  0.  0.  0.  0.  0.  1.  0.  0.]\n",
      " [ 0.  0.  0.  0.  0.  0.  0.  0.  1.  0.]\n",
      " [ 0.  0.  0.  0.  0.  0.  0.  0.  0.  1.]]\n"
     ]
    }
   ],
   "source": [
    "A_mtx=np.delete(dec_cir,0, axis=0)\n",
    "A_mtx=np.delete(A_mtx,N_qubit-1, axis=0)\n",
    "\n",
    "print(A_mtx)"
   ]
  },
  {
   "cell_type": "code",
   "execution_count": 74,
   "metadata": {},
   "outputs": [],
   "source": [
    "mtx=dec_cir@(np.identity(10)-np.transpose(A_mtx)@np.linalg.inv(A_mtx@np.transpose(A_mtx))@A_mtx)"
   ]
  },
  {
   "cell_type": "code",
   "execution_count": 76,
   "metadata": {},
   "outputs": [],
   "source": [
    "times=10**7\n",
    "\n",
    "#corrected_state=np.zeros((times,6))\n",
    "\n",
    "err_sweep=np.linspace(0.1,0.4,31)\n",
    "\n",
    "logical_rate=np.zeros(err_sweep.shape[0])"
   ]
  },
  {
   "cell_type": "code",
   "execution_count": 77,
   "metadata": {
    "scrolled": true
   },
   "outputs": [
    {
     "name": "stdout",
     "output_type": "stream",
     "text": [
      "0\n",
      "1\n",
      "2\n",
      "3\n",
      "4\n",
      "5\n",
      "6\n",
      "7\n",
      "8\n",
      "9\n",
      "10\n",
      "11\n",
      "12\n",
      "13\n",
      "14\n",
      "15\n",
      "16\n",
      "17\n",
      "18\n",
      "19\n",
      "20\n",
      "21\n",
      "22\n",
      "23\n",
      "24\n",
      "25\n",
      "26\n",
      "27\n",
      "28\n",
      "29\n",
      "30\n"
     ]
    }
   ],
   "source": [
    "for j in range(err_sweep.shape[0]):\n",
    "    print(j)\n",
    "    sigma=err_sweep[j]\n",
    "    \n",
    "    for i in range(times):\n",
    "        s=np.random.normal(0.0,sigma,(10))\n",
    "\n",
    "        syn=Rs(np.sqrt(2*np.pi),A_mtx@s)\n",
    "        corrected_state=dec_cir@s-dec_cir@np.transpose(A_mtx)@np.linalg.inv(A_mtx@np.transpose(A_mtx))@syn\n",
    "        q_out=corrected_state[0]\n",
    "        p_out=corrected_state[5]\n",
    "        \n",
    "        logical_rate[j]+=1/times*logical_err(q_out,p_out)"
   ]
  },
  {
   "cell_type": "code",
   "execution_count": null,
   "metadata": {},
   "outputs": [],
   "source": []
  }
 ],
 "metadata": {
  "kernelspec": {
   "display_name": "Python 3",
   "language": "python",
   "name": "python3"
  },
  "language_info": {
   "codemirror_mode": {
    "name": "ipython",
    "version": 3
   },
   "file_extension": ".py",
   "mimetype": "text/x-python",
   "name": "python",
   "nbconvert_exporter": "python",
   "pygments_lexer": "ipython3",
   "version": "3.7.7"
  }
 },
 "nbformat": 4,
 "nbformat_minor": 5
}
